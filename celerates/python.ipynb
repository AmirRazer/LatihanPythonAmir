{
 "cells": [
  {
   "cell_type": "code",
   "execution_count": 3,
   "metadata": {},
   "outputs": [],
   "source": [
    "arr = [66,34,25,12,22,11,16]"
   ]
  },
  {
   "cell_type": "code",
   "execution_count": 4,
   "metadata": {},
   "outputs": [
    {
     "name": "stdout",
     "output_type": "stream",
     "text": [
      "Array yang sudah diurutkan adalah: \n"
     ]
    },
    {
     "ename": "TypeError",
     "evalue": "object of type 'NoneType' has no len()",
     "output_type": "error",
     "traceback": [
      "\u001b[1;31m---------------------------------------------------------------------------\u001b[0m",
      "\u001b[1;31mTypeError\u001b[0m                                 Traceback (most recent call last)",
      "Cell \u001b[1;32mIn[4], line 15\u001b[0m\n\u001b[0;32m     13\u001b[0m array_baru \u001b[38;5;241m=\u001b[39m buble_sort(arr)\n\u001b[0;32m     14\u001b[0m \u001b[38;5;28mprint\u001b[39m(\u001b[38;5;124m\"\u001b[39m\u001b[38;5;124mArray yang sudah diurutkan adalah: \u001b[39m\u001b[38;5;124m\"\u001b[39m)\n\u001b[1;32m---> 15\u001b[0m \u001b[38;5;28;01mfor\u001b[39;00m i \u001b[38;5;129;01min\u001b[39;00m \u001b[38;5;28mrange\u001b[39m (\u001b[38;5;28;43mlen\u001b[39;49m\u001b[43m(\u001b[49m\u001b[43marray_baru\u001b[49m\u001b[43m)\u001b[49m):\n\u001b[0;32m     16\u001b[0m     \u001b[38;5;28mprint\u001b[39m(array_baru[i])\n",
      "\u001b[1;31mTypeError\u001b[0m: object of type 'NoneType' has no len()"
     ]
    }
   ],
   "source": [
    "def buble_sort(arr):\n",
    "    #ini digunakan untuk menghitung panjang list\n",
    "    n = len(arr)\n",
    "    #perulangan untuk menjalankan iteras sebanyak n-1 kali\n",
    "    for i in range(n-1):\n",
    "        #pengulangan dalam iterasi ke 1\n",
    "        for j in range(0,n-i-1):\n",
    "            #membandingkan 2 element secara berturut-turut\n",
    "            if arr[j] > arr[j+1]:\n",
    "                #menukar elemen jika berada di posisi yang salah\n",
    "                arr[j], arr[j+1] = arr[j+1], arr[j]\n",
    "\n",
    "array_baru = buble_sort(arr)\n",
    "print(\"Array yang sudah diurutkan adalah: \")\n",
    "for i in range (len(array_baru)):\n",
    "    print(array_baru[i])"
   ]
  }
 ],
 "metadata": {
  "kernelspec": {
   "display_name": "env",
   "language": "python",
   "name": "python3"
  },
  "language_info": {
   "codemirror_mode": {
    "name": "ipython",
    "version": 3
   },
   "file_extension": ".py",
   "mimetype": "text/x-python",
   "name": "python",
   "nbconvert_exporter": "python",
   "pygments_lexer": "ipython3",
   "version": "3.10.6"
  }
 },
 "nbformat": 4,
 "nbformat_minor": 2
}
