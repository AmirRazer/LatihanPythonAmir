{
 "cells": [
  {
   "cell_type": "code",
   "execution_count": 2,
   "metadata": {},
   "outputs": [],
   "source": [
    "from tkinter import *\n",
    "root = Tk()\n",
    "root.geometry(\"300x300\")\n",
    "\n",
    "OPTIONS = [\n",
    "    \"LinerRegresi\",\n",
    "    \"KNN\"\n",
    "]\n",
    "\n",
    "Variable = StringVar()\n",
    "Variable.set(OPTIONS[0])\n",
    "\n",
    "w = OptionMenu(root, Variable, *OPTIONS)\n",
    "w.pack()\n",
    "root.mainloop()"
   ]
  }
 ],
 "metadata": {
  "kernelspec": {
   "display_name": "env",
   "language": "python",
   "name": "python3"
  },
  "language_info": {
   "codemirror_mode": {
    "name": "ipython",
    "version": 3
   },
   "file_extension": ".py",
   "mimetype": "text/x-python",
   "name": "python",
   "nbconvert_exporter": "python",
   "pygments_lexer": "ipython3",
   "version": "3.10.6"
  }
 },
 "nbformat": 4,
 "nbformat_minor": 2
}
